{
 "cells": [
  {
   "cell_type": "code",
   "execution_count": 4,
   "metadata": {
    "collapsed": true
   },
   "outputs": [
    {
     "name": "stdout",
     "output_type": "stream",
     "text": [
      "All tracks fetched\n",
      "Artists fetched\n"
     ]
    }
   ],
   "source": [
    "from IPython.display import display\n",
    "import spotipy\n",
    "import spotipy.util as util\n",
    "\n",
    "client_id = 'b69a9985fa8842deb0691b2d0e3f0b69'\n",
    "client_secret = 'd9e9ae2924174c139a5a9ccb303f9f3a'\n",
    "redirect_uri = 'http://localhost/'\n",
    "\n",
    "username = '22mrmbu7oumkrb56tcsclawdi'\n",
    "\n",
    "token = util.prompt_for_user_token(username, 'user-library-read', client_id=client_id, client_secret=client_secret, redirect_uri=redirect_uri)\n",
    "\n",
    "sp = spotipy.Spotify(auth=token)\n",
    "tracks = []\n",
    "\n",
    "offset = 0\n",
    "while True:\n",
    "    track_set = sp.current_user_saved_tracks(limit=50, offset=offset)['items']\n",
    "    if track_set:\n",
    "        tracks += track_set\n",
    "    else:\n",
    "        break\n",
    "    offset += 50\n",
    "print(\"All tracks fetched\")\n",
    "\n",
    "artist_names = {}\n",
    "artist_tracks = {}\n",
    "all_artists = set()\n",
    "for i in range(len(tracks)):\n",
    "    tracks[i] = tracks[i]['track']\n",
    "    track_id = tracks[i]['id']\n",
    "    artist_id = tracks[i]['artists'][0]['id']\n",
    "    \n",
    "    if artist_id not in artist_tracks:\n",
    "        artist_tracks[artist_id] = [track_id]\n",
    "    else:\n",
    "        artist_tracks[artist_id].append(track_id)\n",
    "    \n",
    "    for artist in tracks[i]['artists']:\n",
    "        all_artists.add(artist['id'])\n",
    "        artist_names[artist['id']] = artist['name']\n",
    "print(\"Artists fetched\")"
   ]
  },
  {
   "cell_type": "code",
   "execution_count": 5,
   "metadata": {},
   "outputs": [
    {
     "name": "stdout",
     "output_type": "stream",
     "text": [
      "Genres fetched\n",
      "500/2568 artists processed, 14 fetched\n",
      "1000/2568 artists processed, 30 fetched\n",
      "1500/2568 artists processed, 55 fetched\n",
      "2000/2568 artists processed, 81 fetched\n",
      "2500/2568 artists processed, 111 fetched\n",
      "All artists processed\n"
     ]
    }
   ],
   "source": [
    "import networkx as nx\n",
    "\n",
    "def chunks(n, x):\n",
    "    return [x[i:i + n] for i in range(0, len(x), n)]\n",
    "\n",
    "artist_genres = {}\n",
    "for chunk in chunks(50, list(artist_tracks.keys())):\n",
    "    for artist in sp.artists(chunk)['artists']:\n",
    "        id = artist['id']\n",
    "        artist_genres[id] = artist['genres']\n",
    "print(\"Genres fetched\")\n",
    "\n",
    "try:\n",
    "    G = nx.read_graphml('related_artists.graphml')\n",
    "except FileNotFoundError:\n",
    "    G = nx.Graph()\n",
    "    \n",
    "i = 0\n",
    "not_found = 0\n",
    "for artist_id in all_artists:\n",
    "    if not G.has_node(artist_id):\n",
    "        not_found += 1\n",
    "        related_list = sp.artist_related_artists(artist_id)['artists']\n",
    "\n",
    "        for related in related_list:\n",
    "            artist_names[related['id']] = artist['name']\n",
    "            G.add_edge(artist_id, related['id'])\n",
    "\n",
    "            sub_related_list = sp.artist_related_artists(related['id'])['artists']\n",
    "            for sub_related in sub_related_list:\n",
    "                artist_names[sub_related['id']] = artist['name']\n",
    "                G.add_edge(related_id, sub_related['id'])\n",
    "\n",
    "    i += 1\n",
    "    if i % 500 ==0:\n",
    "        print(\"%d/%d artists processed, %d fetched\" % (i, len(all_artists), not_found))\n",
    "        \n",
    "for artist in list(artist_tracks.keys()):\n",
    "    if not G.has_node(artist):\n",
    "        del artist_tracks[artist]\n",
    "        \n",
    "nx.write_graphml(G, 'related_artists.graphml')\n",
    "print(\"All artists processed\")"
   ]
  },
  {
   "cell_type": "code",
   "execution_count": 15,
   "metadata": {},
   "outputs": [
    {
     "name": "stdout",
     "output_type": "stream",
     "text": [
      "0:10:22.009404\n"
     ]
    }
   ],
   "source": [
    "import numpy as np\n",
    "import pandas as pd\n",
    "from sklearn import preprocessing\n",
    "import seaborn as sns\n",
    "import matplotlib.pyplot as plt\n",
    "from datetime import datetime\n",
    "\n",
    "artists = list(artist_tracks.keys())\n",
    "distance = np.zeros((len(artists), len(artists)))\n",
    "start = datetime.now()\n",
    "iters = 0\n",
    "\n",
    "for i in range(len(artists)):\n",
    "    source = artists[i]\n",
    "    lengths = nx.single_source_shortest_path_length(G, source)\n",
    "    for j in range(len(artists)):\n",
    "        target = artists[j]\n",
    "        if target in lengths:\n",
    "            distance[i][j] = lengths[target]\n",
    "        else:\n",
    "            distance[i][j] = np.inf\n",
    "    iters += 1\n",
    "    \n",
    "print(datetime.now() - start)"
   ]
  },
  {
   "cell_type": "code",
   "execution_count": 28,
   "metadata": {},
   "outputs": [
    {
     "name": "stderr",
     "output_type": "stream",
     "text": [
      "c:\\python36\\lib\\site-packages\\sklearn\\manifold\\spectral_embedding_.py:234: UserWarning: Graph is not fully connected, spectral embedding may not work as expected.\n",
      "  warnings.warn(\"Graph is not fully connected, spectral embedding\"\n"
     ]
    }
   ],
   "source": [
    "import sklearn.cluster\n",
    "\n",
    "similarity = np.exp(-distance / distance[np.isfinite(distance)].std())\n",
    "clustering = sklearn.cluster.SpectralClustering(n_clusters=8, affinity='precomputed').fit_predict(similarity)\n",
    "\n",
    "artist_cluster = {}\n",
    "cluster_artists = {}\n",
    "for i in range(len(artists)):\n",
    "    artist_cluster[artists[i]] = clustering[i]\n",
    "    if clustering[i] not in cluster_artists:\n",
    "        cluster_artists[clustering[i]] = [artists[i]]\n",
    "    else:\n",
    "        cluster_artists[clustering[i]].append(artists[i])"
   ]
  },
  {
   "cell_type": "code",
   "execution_count": 35,
   "metadata": {},
   "outputs": [],
   "source": [
    "counts = {'cluster': [], 'genre': [], 'count': []}\n",
    "for cluster in cluster_artists:\n",
    "    genre_count = dict()\n",
    "    total_tracks = 0\n",
    "    for artist in cluster_artists[cluster]:\n",
    "        for genre in artist_genres[artist]:\n",
    "            if genre in genre_count:\n",
    "                genre_count[genre] += len(artist_tracks[artist])\n",
    "            else:\n",
    "                genre_count[genre] = len(artist_tracks[artist])\n",
    "        total_tracks += len(artist_tracks[artist])\n",
    "    for genre, count in genre_count.items():\n",
    "        counts['cluster'].append(cluster)\n",
    "        counts['genre'].append(genre)\n",
    "        counts['count'].append(count / total_tracks)\n",
    "\n",
    "counts = pd.DataFrame(counts)\n",
    "counts.sort_values('count', ascending=False, inplace=True)\n",
    "original_counts = counts.copy()\n",
    "\n",
    "clusters_to_name = set(counts['cluster'].unique())\n",
    "playlists = dict()\n",
    "while clusters_to_name:\n",
    "    cluster = counts.iloc[0]['cluster']\n",
    "    name = counts.iloc[0]['genre']\n",
    "    playlists[name] = cluster\n",
    "    counts = counts[ (counts['cluster']!=cluster) & (counts['genre']!=name) ]\n",
    "    clusters_to_name.remove(cluster)\n",
    "    \n",
    "playlist_tracks = dict()\n",
    "from collections import OrderedDict\n",
    "for name in playlists:\n",
    "    playlist_tracks[name] = []\n",
    "    cluster = playlists[name]\n",
    "    for artist in cluster_artists[cluster]:\n",
    "        playlist_tracks[name] += artist_tracks[artist]"
   ]
  },
  {
   "cell_type": "code",
   "execution_count": 38,
   "metadata": {},
   "outputs": [
    {
     "name": "stdout",
     "output_type": "stream",
     "text": [
      "\n",
      "\n",
      "            User authentication requires interaction with your\n",
      "            web browser. Once you enter your credentials and\n",
      "            give authorization, you will be redirected to\n",
      "            a url.  Paste that url you were directed to to\n",
      "            complete the authorization.\n",
      "\n",
      "        \n",
      "Opened https://accounts.spotify.com/authorize?client_id=b69a9985fa8842deb0691b2d0e3f0b69&response_type=code&redirect_uri=http%3A%2F%2Flocalhost%2F&scope=playlist-modify-private in your browser\n",
      "\n",
      "\n"
     ]
    },
    {
     "name": "stdin",
     "output_type": "stream",
     "text": [
      "Enter the URL you were redirected to:  http://localhost/?code=AQAuHAsoc-0l-GAQRcs2khImY8Q7DCCQSlIx2jszu5Z4QNC5ZGaQmfghLczReteAouZNEj8sK0Xs2Idv9ZE9Y0-LjjmAbqJA3Hsp7XkOrODKXrWPlD4uhuu3Q4dxvp_ijGDErNZEfys0tmE_VKgO_FkXHh4P-Qh-CVSLweUPC_GQ5r0vpicOT-Iqjuc9m9XAtB8Sgj25cRC0YmcnDwesQdjP\n"
     ]
    },
    {
     "name": "stdout",
     "output_type": "stream",
     "text": [
      "\n",
      "\n"
     ]
    }
   ],
   "source": [
    "token = util.prompt_for_user_token(username, 'playlist-modify-private', client_id=client_id, client_secret=client_secret, redirect_uri=redirect_uri)\n",
    "sp = spotipy.Spotify(auth=token)\n",
    "\n",
    "for name in playlist_tracks:\n",
    "    id = sp.user_playlist_create(username, 'sortify '+name, public=False)['id']\n",
    "    for chunk in chunks(100, playlist_tracks[name]):\n",
    "        sp.user_playlist_add_tracks(username, id, chunk)"
   ]
  },
  {
   "cell_type": "code",
   "execution_count": null,
   "metadata": {},
   "outputs": [],
   "source": [
    "import pprint\n",
    "pp = pprint.PrettyPrinter(indent=4)\n",
    "pp.pprint(playlists)"
   ]
  }
 ],
 "metadata": {
  "kernelspec": {
   "display_name": "Python 3",
   "language": "python",
   "name": "python3"
  },
  "language_info": {
   "codemirror_mode": {
    "name": "ipython",
    "version": 3
   },
   "file_extension": ".py",
   "mimetype": "text/x-python",
   "name": "python",
   "nbconvert_exporter": "python",
   "pygments_lexer": "ipython3",
   "version": "3.6.6"
  }
 },
 "nbformat": 4,
 "nbformat_minor": 2
}
