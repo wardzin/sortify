{
 "cells": [
  {
   "cell_type": "code",
   "execution_count": 11,
   "metadata": {
    "collapsed": true
   },
   "outputs": [
    {
     "name": "stdout",
     "output_type": "stream",
     "text": [
      "Tracks fetched\n",
      "0/3781 tracks processed\n",
      "500/3781 tracks processed\n",
      "1000/3781 tracks processed\n",
      "1500/3781 tracks processed\n",
      "retrying ...1secs\n",
      "2000/3781 tracks processed\n",
      "2500/3781 tracks processed\n",
      "3000/3781 tracks processed\n",
      "3500/3781 tracks processed\n",
      "Artists fetched\n"
     ]
    }
   ],
   "source": [
    "from IPython.display import display\n",
    "import spotipy\n",
    "import spotipy.util as util\n",
    "\n",
    "\n",
    "client_id = 'b69a9985fa8842deb0691b2d0e3f0b69'\n",
    "client_secret = 'd9e9ae2924174c139a5a9ccb303f9f3a'\n",
    "redirect_uri = 'http://localhost/'\n",
    "\n",
    "username = '22mrmbu7oumkrb56tcsclawdi'\n",
    "\n",
    "token = util.prompt_for_user_token(username, 'user-library-read', client_id=client_id, client_secret=client_secret, redirect_uri=redirect_uri)\n",
    "\n",
    "sp = spotipy.Spotify(auth=token)\n",
    "tracks = []\n",
    "\n",
    "offset = 0\n",
    "while True:\n",
    "    track_set = sp.current_user_saved_tracks(limit=50, offset=offset)['items']\n",
    "    if track_set:\n",
    "        tracks += track_set\n",
    "    else:\n",
    "        break\n",
    "\n",
    "    offset += 50\n",
    "print(\"Tracks fetched\")\n",
    "\n",
    "artist_tracks = {}\n",
    "all_artists = set()\n",
    "artist_related = {}\n",
    "for i in range(len(tracks)):\n",
    "    tracks[i] = tracks[i]['track']\n",
    "    track_id = tracks[i]['id']\n",
    "    artist_id = tracks[i]['artists'][0]['id']\n",
    "    \n",
    "    if artist_id not in artist_tracks:\n",
    "        artist_tracks[artist_id] = [track_id]\n",
    "    else:\n",
    "        artist_tracks[artist_id].append(track_id)\n",
    "    \n",
    "    for artist in tracks[i]['artists']:\n",
    "        all_artists.add(artist['id'])\n",
    "        \n",
    "i = 0\n",
    "for artist_id in all_artists:\n",
    "    if artist_id not in artist_related:\n",
    "        related_list = sp.artist_related_artists(artist_id)['artists']\n",
    "        artist_related[artist_id] = []\n",
    "        \n",
    "        for related in related_list:\n",
    "            related_id = related['id']\n",
    "            artist_related[artist_id].append(related_id)\n",
    "            \n",
    "            if related_id not in artist_related:\n",
    "                sub_related_list = sp.artist_related_artists(related_id)['artists']\n",
    "                artist_related[related_id] = []\n",
    "                for sub_related in sub_related_list:\n",
    "                    artist_related[related_id].append(sub_related['id'])\n",
    "                    \n",
    "    i += 1\n",
    "    if i % 500 ==0:\n",
    "        print(\"%d/%d artists processed\" % (i, len(all_artists)))\n",
    "                \n",
    "print(\"Artists fetched\")"
   ]
  },
  {
   "cell_type": "code",
   "execution_count": 12,
   "metadata": {},
   "outputs": [
    {
     "name": "stdout",
     "output_type": "stream",
     "text": [
      "Genres fetched\n"
     ]
    }
   ],
   "source": [
    "import networkx as nx\n",
    "\n",
    "def chunks(n, x):\n",
    "    return [x[i:i + n] for i in range(0, len(x), n)]\n",
    "\n",
    "artist_genres = {}\n",
    "for chunk in chunks(50, list(artist_tracks.keys())):\n",
    "    for artist in sp.artists(chunk)['artists']:\n",
    "        id = artist['id']\n",
    "        artist_genres[id] = artist['genres']\n",
    "print(\"Genres fetched\")\n",
    "        \n",
    "G = nx.Graph()\n",
    "for artist in artist_related:\n",
    "    for related_artist in artist_related[artist]:\n",
    "        G.add_edge(artist, related_artist)"
   ]
  },
  {
   "cell_type": "code",
   "execution_count": 14,
   "metadata": {},
   "outputs": [],
   "source": [
    "nx.write_graphml(G, 'related_artists.graphml')"
   ]
  },
  {
   "cell_type": "code",
   "execution_count": null,
   "metadata": {},
   "outputs": [],
   "source": [
    "import numpy as np\n",
    "import pandas as pd\n",
    "from sklearn import preprocessing\n",
    "import seaborn as sns\n",
    "import matplotlib.pyplot as plt\n",
    "from datetime import datetime\n",
    "\n",
    "G = nx.Graph()\n",
    "G.add_edge(1,2)\n",
    "nodes = list(G.nodes())\n",
    "paths = list(nx.all_pairs_shortest_path_length(G))\n",
    "distance = np.array(np.zeros(len(nodes), len(nodes)))\n",
    "for i in range(len(nodes)):\n",
    "    if paths[i][0] != nodes[i]:\n",
    "            print(\"Not same order as nodeslist!\")\n",
    "    for j in range(len(nodes)):\n",
    "        distance[i][j] = paths[i][1][nodes[j]]\n",
    "\n",
    "similarity = np.exp(-distance / distance.std())"
   ]
  },
  {
   "cell_type": "code",
   "execution_count": null,
   "metadata": {},
   "outputs": [],
   "source": [
    "np.savetxt('distance.txt', distance)"
   ]
  },
  {
   "cell_type": "code",
   "execution_count": null,
   "metadata": {},
   "outputs": [],
   "source": [
    "import sklearn.cluster\n",
    "\n",
    "clustering = sklearn.cluster.SpectralClustering(n_clusters=5, affinity='precomputed').fit_predict(similarity)\n",
    "\n",
    "artist_cluster = {}\n",
    "cluster_artists = {}\n",
    "nodes = list(G.nodes())\n",
    "for i in range(len(nodes)):\n",
    "    artist_cluster[nodes[i]] = clustering[i]\n",
    "    cluster_artists[clustering[i]] = nodes[i]"
   ]
  },
  {
   "cell_type": "code",
   "execution_count": null,
   "metadata": {},
   "outputs": [],
   "source": [
    "counts = {'cluster': [], 'genre': [], 'count': []}\n",
    "for cluster in cluster_artists:\n",
    "    genre_count = dict()\n",
    "    artist_count = 0\n",
    "    for artist in cluster_artists[cluster]:\n",
    "        if artist in artist_tracks:\n",
    "            artist_count += 1\n",
    "            for genre in artist_genres[artist]:\n",
    "                if genre in genre_count:\n",
    "                    genre_count[genre] += 1\n",
    "                else:\n",
    "                    genre_count[genre] = 1\n",
    "            for genre, count in genre_count.items():\n",
    "                counts['cluster'].append(cluster)\n",
    "                counts['genre'].append(genre)\n",
    "                counts['count'].append(count / artist_count)\n",
    "\n",
    "counts = pd.DataFrame(counts)\n",
    "counts.sort_values('count', ascending=False, inplace=True)\n",
    "original_counts = counts.copy()\n",
    "\n",
    "clusters_to_name = set(counts['cluster'].unique())\n",
    "playlists = dict()\n",
    "while clusters_to_name:\n",
    "    cluster = counts.iloc[0]['cluster']\n",
    "    name = counts.iloc[0]['genre']\n",
    "    playlists[name] = cluster\n",
    "    counts = counts[ (counts['cluster']!=cluster) & (counts['genre']!=name) ]\n",
    "    clusters_to_name.remove(cluster)\n",
    "    \n",
    "playlist_tracks = dict()\n",
    "from collections import OrderedDict\n",
    "for name in playlists:\n",
    "    playlist_tracks[name] = []\n",
    "    cluster = playlists[name]\n",
    "    for artist in cluster_artists[cluster]:\n",
    "        playlist_tracks[name] += artist_tracks[artist]\n",
    "    "
   ]
  },
  {
   "cell_type": "code",
   "execution_count": null,
   "metadata": {},
   "outputs": [],
   "source": [
    "token = util.prompt_for_user_token(username, 'playlist-modify-private', client_id=client_id, client_secret=client_secret, redirect_uri=redirect_uri)\n",
    "sp = spotipy.Spotify(auth=token)\n",
    "\n",
    "for name in playlist_tracks:\n",
    "    id = sp.user_playlist_create(username, 'sortify '+name, public=False)['id']\n",
    "    for chunk in chunks(100, playlist_tracks[name]):\n",
    "        sp.user_playlist_add_tracks(username, id, chunk)"
   ]
  },
  {
   "cell_type": "code",
   "execution_count": null,
   "metadata": {},
   "outputs": [],
   "source": [
    "import pprint\n",
    "pp = pprint.PrettyPrinter(indent=4)\n",
    "pp.pprint(playlists)"
   ]
  }
 ],
 "metadata": {
  "kernelspec": {
   "display_name": "Python 3",
   "language": "python",
   "name": "python3"
  },
  "language_info": {
   "codemirror_mode": {
    "name": "ipython",
    "version": 3
   },
   "file_extension": ".py",
   "mimetype": "text/x-python",
   "name": "python",
   "nbconvert_exporter": "python",
   "pygments_lexer": "ipython3",
   "version": "3.7.0"
  }
 },
 "nbformat": 4,
 "nbformat_minor": 2
}
