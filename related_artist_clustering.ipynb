{
 "cells": [
  {
   "cell_type": "code",
   "execution_count": 1,
   "metadata": {
    "collapsed": true
   },
   "outputs": [
    {
     "name": "stdout",
     "output_type": "stream",
     "text": [
      "\n",
      "\n",
      "            User authentication requires interaction with your\n",
      "            web browser. Once you enter your credentials and\n",
      "            give authorization, you will be redirected to\n",
      "            a url.  Paste that url you were directed to to\n",
      "            complete the authorization.\n",
      "\n",
      "        \n",
      "Opened https://accounts.spotify.com/authorize?client_id=b69a9985fa8842deb0691b2d0e3f0b69&response_type=code&redirect_uri=http%3A%2F%2Flocalhost%2F&scope=user-library-read in your browser\n",
      "\n",
      "\n"
     ]
    },
    {
     "name": "stdin",
     "output_type": "stream",
     "text": [
      "Enter the URL you were redirected to:  http://localhost/?code=AQDOUlFV04V_a6Yfo4PrjMsGlDN2OSGscbp74CjxGPcdUWxLtHgSmj92_uonAVIbGA9GIiRYh_5Pe3cbykZvK6_S3KulU65dPkzJz_-bpvEcwpAoaU5dZWxHcIoBPoDq7RGMTacknY9ab5vY31BOoaPFWlYmn_gFFHeZ7Wksv_yeE97Sn8FrW47TupiKv0eSCtKdLyJoy7OJYKgB\n"
     ]
    },
    {
     "name": "stdout",
     "output_type": "stream",
     "text": [
      "\n",
      "\n",
      "1021 tracks fetched\n",
      "364 artists fetched\n"
     ]
    }
   ],
   "source": [
    "from IPython.display import display\n",
    "import spotipy\n",
    "import spotipy.util as util\n",
    "\n",
    "client_id = 'b69a9985fa8842deb0691b2d0e3f0b69'\n",
    "client_secret = 'd9e9ae2924174c139a5a9ccb303f9f3a'\n",
    "redirect_uri = 'http://localhost/'\n",
    "\n",
    "username = '12182521538'\n",
    "\n",
    "token = util.prompt_for_user_token(username, 'user-library-read', client_id=client_id, client_secret=client_secret, redirect_uri=redirect_uri)\n",
    "\n",
    "sp = spotipy.Spotify(auth=token)\n",
    "tracks = []\n",
    "\n",
    "offset = 0\n",
    "while True:\n",
    "    track_set = sp.current_user_saved_tracks(limit=50, offset=offset)['items']\n",
    "    if track_set:\n",
    "        tracks += track_set\n",
    "    else:\n",
    "        break\n",
    "    offset += 50\n",
    "print(\"%d tracks fetched\" % len(tracks))\n",
    "\n",
    "artist_names = {}\n",
    "artist_tracks = {}\n",
    "all_artists = set()\n",
    "for i in range(len(tracks)):\n",
    "    tracks[i] = tracks[i]['track']\n",
    "    track_id = tracks[i]['id']\n",
    "    \n",
    "    artist_id = tracks[i]['artists'][0]['id']\n",
    "    \n",
    "    if artist_id not in artist_tracks:\n",
    "        artist_tracks[artist_id] = [track_id]\n",
    "    else:\n",
    "        artist_tracks[artist_id].append(track_id)\n",
    "    \n",
    "    for artist in tracks[i]['artists']:\n",
    "        all_artists.add(artist['id'])\n",
    "        artist_names[artist['id']] = artist['name']\n",
    "print(\"%d artists fetched\" % len(artist_tracks))"
   ]
  },
  {
   "cell_type": "code",
   "execution_count": 2,
   "metadata": {},
   "outputs": [
    {
     "name": "stdout",
     "output_type": "stream",
     "text": [
      "Genres fetched\n",
      "100/737 artists processed, 21 fetched\n",
      "200/737 artists processed, 38 fetched\n",
      "300/737 artists processed, 50 fetched\n",
      "400/737 artists processed, 60 fetched\n",
      "500/737 artists processed, 76 fetched\n",
      "600/737 artists processed, 95 fetched\n",
      "700/737 artists processed, 107 fetched\n",
      "All artists processed\n"
     ]
    }
   ],
   "source": [
    "import networkx as nx\n",
    "\n",
    "def chunks(n, x):\n",
    "    return [x[i:i + n] for i in range(0, len(x), n)]\n",
    "\n",
    "artist_genres = {}\n",
    "for chunk in chunks(50, list(artist_tracks.keys())):\n",
    "    for artist in sp.artists(chunk)['artists']:\n",
    "        id = artist['id']\n",
    "        artist_genres[id] = artist['genres']\n",
    "print(\"Genres fetched\")\n",
    "\n",
    "try:\n",
    "    G = nx.read_graphml('related_artists.graphml')\n",
    "except FileNotFoundError:\n",
    "    G = nx.Graph()\n",
    "    \n",
    "i = 0\n",
    "not_found = 0\n",
    "for artist_id in all_artists:\n",
    "    if not G.has_node(artist_id):\n",
    "        not_found += 1\n",
    "        related_list = sp.artist_related_artists(artist_id)['artists']\n",
    "\n",
    "        for related in related_list:\n",
    "            artist_names[related['id']] = artist['name']\n",
    "            G.add_edge(artist_id, related['id'])\n",
    "\n",
    "            sub_related_list = sp.artist_related_artists(related['id'])['artists']\n",
    "            for sub_related in sub_related_list:\n",
    "                artist_names[sub_related['id']] = artist['name']\n",
    "                G.add_edge(related['id'], sub_related['id'])\n",
    "                i += 1\n",
    "\n",
    "    #             ssub_related_list = sp.artist_related_artists(sub_related['id'])['artists']\n",
    "    #             for ssub_related in ssub_related_list:\n",
    "    #                 artist_names[ssub_related['id']] = artist['name']\n",
    "    #                 G.add_edge(sub_related['id'], ssub_related['id'])\n",
    "\n",
    "    if i % 100 ==0:\n",
    "        print(\"%d/%d artists processed, %d fetched\" % (i, len(all_artists), not_found))\n",
    "        \n",
    "for artist in list(artist_tracks.keys()):\n",
    "    if not G.has_node(artist):\n",
    "        del artist_tracks[artist]\n",
    "        \n",
    "nx.write_graphml(G, 'related_artists.graphml')\n",
    "print(\"All artists processed\")"
   ]
  },
  {
   "cell_type": "code",
   "execution_count": 3,
   "metadata": {},
   "outputs": [
    {
     "name": "stdout",
     "output_type": "stream",
     "text": [
      "Graph nodes: 71936\n",
      "Graph edges: 279390\n",
      "Graph components: 9\n",
      "0:00:33.577166\n"
     ]
    }
   ],
   "source": [
    "import numpy as np\n",
    "import pandas as pd\n",
    "from sklearn import preprocessing\n",
    "import seaborn as sns\n",
    "import matplotlib.pyplot as plt\n",
    "from datetime import datetime\n",
    "from multiprocessing import Pool\n",
    "from functools import partial\n",
    "\n",
    "print(\"Graph nodes:\", nx.number_of_nodes(G))\n",
    "print(\"Graph edges:\", nx.number_of_edges(G))\n",
    "print(\"Graph components:\", nx.number_connected_components(G))\n",
    "\n",
    "artists = list(artist_tracks.keys())\n",
    "distance = np.zeros((len(artists), len(artists)))\n",
    "start = datetime.now()\n",
    "iters = 0\n",
    "\n",
    "with Pool(4) as pool:\n",
    "    paths = pool.map(partial(nx.single_source_shortest_path_length, G), artists)\n",
    "\n",
    "i = 0\n",
    "for lengths in paths:\n",
    "    source = artists[i]\n",
    "    for j in range(len(artists)):\n",
    "        target = artists[j]\n",
    "        if target in lengths:\n",
    "            distance[i][j] = lengths[target]\n",
    "        else:\n",
    "            distance[i][j] = np.inf\n",
    "    iters += 1\n",
    "    i += 1\n",
    "    \n",
    "print(datetime.now() - start)"
   ]
  },
  {
   "cell_type": "code",
   "execution_count": 4,
   "metadata": {},
   "outputs": [
    {
     "name": "stdout",
     "output_type": "stream",
     "text": [
      "[0 1 2 3 4 5 6 7]\n",
      "3 53\n",
      "2 99\n",
      "0 54\n",
      "5 17\n",
      "1 83\n",
      "4 37\n",
      "7 12\n",
      "6 6\n"
     ]
    }
   ],
   "source": [
    "import sklearn.cluster\n",
    "import sklearn.metrics\n",
    "\n",
    "connectivity = nx.to_numpy_matrix(G, nodelist=artists)\n",
    "similarity = np.exp(-distance / distance[ np.isfinite(distance) ].std())\n",
    "# for n_clusters in range(2, 13):\n",
    "# dist = np.copy(distance)\n",
    "# max_value = dist[ np.isfinite(dist) ].max()\n",
    "# print(max_value)\n",
    "# for i in range(len(dist)):\n",
    "#     for j in range(len(dist)):\n",
    "#         if dist[i][j] == np.inf:\n",
    "#             dist[i][j] = max_value * 2\n",
    "\n",
    "#     clustering = sklearn.cluster.AgglomerativeClustering(n_clusters=n_clusters, affinity='precomputed', linkage='average', compute_full_tree=True).fit_predict(dist)\n",
    "# clustering = sklearn.cluster.DBSCAN(eps=3, min_samples=1, metric='precomputed', n_jobs=-1).fit_predict(dist)\n",
    "#     print(np.unique(clustering))\n",
    "#     print(\"%d cluster silhouette:\" % len(np.unique(clustering)), sklearn.metrics.silhouette_score(dist, clustering, metric='precomputed'))\n",
    "# print(sklearn.metrics.silhouette_score(dist, clustering, metric='precomputed'))\n",
    "\n",
    "clustering = sklearn.cluster.SpectralClustering(n_clusters=8, affinity='precomputed').fit_predict(similarity)\n",
    "# clustering = sklearn.cluster.AgglomerativeClustering(n_clusters=8, affinity='precomputed', linkage='average', compute_full_tree=True).fit_predict(dist)\n",
    "print(np.unique(clustering))\n",
    "artist_cluster = {}\n",
    "cluster_artists = {}\n",
    "for i in range(len(artists)):\n",
    "    artist_cluster[artists[i]] = clustering[i]\n",
    "    if clustering[i] not in cluster_artists:\n",
    "        cluster_artists[clustering[i]] = [artists[i]]\n",
    "    else:\n",
    "        cluster_artists[clustering[i]].append(artists[i])\n",
    "for clus in cluster_artists:\n",
    "    print(clus, len(cluster_artists[clus]))"
   ]
  },
  {
   "cell_type": "code",
   "execution_count": 28,
   "metadata": {},
   "outputs": [
    {
     "name": "stdout",
     "output_type": "stream",
     "text": [
      "3 inf\n",
      "5 inf\n",
      "2 inf\n",
      "4 inf\n",
      "1 inf\n",
      "7 inf\n",
      "0 inf\n",
      "6 inf\n"
     ]
    }
   ],
   "source": [
    "cd = {}\n",
    "for i in range(len(clustering)):\n",
    "    cluster = clustering[i]\n",
    "    if cluster not in cd:\n",
    "        cd[cluster] = distance[i]\n",
    "    else:\n",
    "        cd[cluster] = np.append(cd[cluster], distance[i])\n",
    "\n",
    "for cluster in cd:\n",
    "    print(cluster, cd[cluster].max())"
   ]
  },
  {
   "cell_type": "code",
   "execution_count": 32,
   "metadata": {},
   "outputs": [
    {
     "name": "stdout",
     "output_type": "stream",
     "text": [
      "{}\n"
     ]
    }
   ],
   "source": [
    "print(artist_cluster)"
   ]
  },
  {
   "cell_type": "code",
   "execution_count": 5,
   "metadata": {},
   "outputs": [
    {
     "name": "stdout",
     "output_type": "stream",
     "text": [
      "cluster\n",
      "cluster\n",
      "cluster\n",
      "cluster\n",
      "cluster\n",
      "cluster\n",
      "cluster\n",
      "cluster\n"
     ]
    }
   ],
   "source": [
    "counts = {'cluster': [], 'genre': [], 'count': []}\n",
    "for cluster in cluster_artists:\n",
    "    print('cluster')\n",
    "    genre_count = dict()\n",
    "    total_tracks = 0\n",
    "    for artist in cluster_artists[cluster]:\n",
    "        for genre in artist_genres[artist]:\n",
    "            if genre in genre_count:\n",
    "                genre_count[genre] += len(artist_tracks[artist])\n",
    "            else:\n",
    "                genre_count[genre] = len(artist_tracks[artist])\n",
    "        total_tracks += len(artist_tracks[artist])\n",
    "    for genre, count in genre_count.items():\n",
    "        counts['cluster'].append(cluster)\n",
    "        counts['genre'].append(genre)\n",
    "        counts['count'].append(count / total_tracks)\n",
    "\n",
    "counts = pd.DataFrame(counts)\n",
    "counts.sort_values('count', ascending=False, inplace=True)\n",
    "original_counts = counts.copy()\n",
    "\n",
    "clusters_to_name = set(counts['cluster'].unique())\n",
    "playlists = dict()\n",
    "while clusters_to_name:\n",
    "    cluster = counts.iloc[0]['cluster']\n",
    "    name = counts.iloc[0]['genre']\n",
    "    playlists[name] = cluster\n",
    "    counts = counts[ (counts['cluster']!=cluster) & (counts['genre']!=name) ]\n",
    "    clusters_to_name.remove(cluster)\n",
    "    \n",
    "playlist_tracks = dict()\n",
    "from collections import OrderedDict\n",
    "for name in playlists:\n",
    "    playlist_tracks[name] = []\n",
    "    cluster = playlists[name]\n",
    "    for artist in cluster_artists[cluster]:\n",
    "        playlist_tracks[name] += artist_tracks[artist]"
   ]
  },
  {
   "cell_type": "code",
   "execution_count": 7,
   "metadata": {},
   "outputs": [
    {
     "name": "stdout",
     "output_type": "stream",
     "text": [
      "     cluster                      genre     count\n",
      "211        5                        rap  1.000000\n",
      "209        5                    hip hop  1.000000\n",
      "293        7                       rock  1.000000\n",
      "262        4                        pop  0.934783\n",
      "227        1                        edm  0.916058\n",
      "261        4                  dance pop  0.880435\n",
      "225        1                   big room  0.879562\n",
      "208        5               gangster rap  0.790698\n",
      "228        1              electro house  0.770073\n",
      "296        7                  hard rock  0.764706\n",
      "294        7                 album rock  0.764706\n",
      "2          3                        edm  0.717557\n",
      "3          3              electro house  0.664122\n",
      "210        5                    pop rap  0.651163\n",
      "236        1  progressive electro house  0.645985\n",
      "0          3                    brostep  0.633588\n",
      "54         2                        pop  0.623239\n",
      "4          3            electronic trap  0.580153\n",
      "234        1              deep big room  0.521898\n",
      "265        4              post-teen pop  0.478261\n",
      "238        1          progressive house  0.470803\n",
      "63         2                        edm  0.457746\n",
      "219        5         east coast hip hop  0.441860\n",
      "233        1             tropical house  0.430657\n",
      "215        5                     g funk  0.418605\n",
      "295        7               classic rock  0.411765\n",
      "130        0                    pop rap  0.409357\n",
      "226        1                  dance pop  0.397810\n",
      "61         2             tropical house  0.359155\n",
      "232        1                        pop  0.354015\n",
      "..       ...                        ...       ...\n",
      "206        0        underground hip hop  0.005848\n",
      "205        0                     lounge  0.005848\n",
      "179        0                     grunge  0.005848\n",
      "256        1              german techno  0.003650\n",
      "252        1                  tracestep  0.003650\n",
      "253        1               deep pop edm  0.003650\n",
      "255        1           funky tech house  0.003650\n",
      "123        2                 dance-punk  0.003521\n",
      "125        2              toronto indie  0.003521\n",
      "126        2            deep euro house  0.003521\n",
      "127        2              indie pop rap  0.003521\n",
      "119        2                  hardstyle  0.003521\n",
      "128        2      neo-singer-songwriter  0.003521\n",
      "118        2             deep hardstyle  0.003521\n",
      "117        2                    europop  0.003521\n",
      "116        2                  eurodance  0.003521\n",
      "94         2                  bass trap  0.003521\n",
      "76         2                        rap  0.003521\n",
      "78         2          alternative dance  0.003521\n",
      "79         2                  indie pop  0.003521\n",
      "82         2                   nu disco  0.003521\n",
      "83         2              norwegian pop  0.003521\n",
      "112        2                 danish pop  0.003521\n",
      "103        2                       soul  0.003521\n",
      "102        2                quiet storm  0.003521\n",
      "101        2              northern soul  0.003521\n",
      "100        2                     motown  0.003521\n",
      "99         2                       funk  0.003521\n",
      "98         2               classic soul  0.003521\n",
      "129        2                  tracestep  0.003521\n",
      "\n",
      "[317 rows x 3 columns]\n"
     ]
    }
   ],
   "source": [
    "print(original_counts)"
   ]
  },
  {
   "cell_type": "code",
   "execution_count": 6,
   "metadata": {},
   "outputs": [
    {
     "name": "stdout",
     "output_type": "stream",
     "text": [
      "\n",
      "\n",
      "            User authentication requires interaction with your\n",
      "            web browser. Once you enter your credentials and\n",
      "            give authorization, you will be redirected to\n",
      "            a url.  Paste that url you were directed to to\n",
      "            complete the authorization.\n",
      "\n",
      "        \n",
      "Opened https://accounts.spotify.com/authorize?client_id=b69a9985fa8842deb0691b2d0e3f0b69&response_type=code&redirect_uri=http%3A%2F%2Flocalhost%2F&scope=playlist-modify-private in your browser\n",
      "\n",
      "\n"
     ]
    },
    {
     "name": "stdin",
     "output_type": "stream",
     "text": [
      "Enter the URL you were redirected to:  http://localhost/?code=AQDN5YIWo3PsnLnqdysrUUQcJx22JizgrFFRdZNQBHNMOTh1HBQd4XirY4Fr84J6ZbGoskZ6aVa7MVNxvn8VLsFgfpH6mU7Ab4tK93YhtsQHaPgrPWVqwFLeJFf2ae5cYFrRBJ_k2ax5Ah-q6B_3bN_Hb1v313kmpMNFSGeUUTM5SHQijmM3BqU40xTsRsVXwU-ZFMgdjJHfvhYQTymL0bW_\n"
     ]
    },
    {
     "name": "stdout",
     "output_type": "stream",
     "text": [
      "\n",
      "\n"
     ]
    }
   ],
   "source": [
    "token = util.prompt_for_user_token(username, 'playlist-modify-private', client_id=client_id, client_secret=client_secret, redirect_uri=redirect_uri)\n",
    "sp = spotipy.Spotify(auth=token)\n",
    "\n",
    "for name in playlist_tracks:\n",
    "    id = sp.user_playlist_create(username, 'sortify '+name, public=False)['id']\n",
    "    for chunk in chunks(100, playlist_tracks[name]):\n",
    "        sp.user_playlist_add_tracks(username, id, chunk)"
   ]
  },
  {
   "cell_type": "code",
   "execution_count": null,
   "metadata": {},
   "outputs": [],
   "source": [
    "import pprint\n",
    "pp = pprint.PrettyPrinter(indent=4)\n",
    "pp.pprint(playlists)"
   ]
  }
 ],
 "metadata": {
  "kernelspec": {
   "display_name": "Python 3",
   "language": "python",
   "name": "python3"
  },
  "language_info": {
   "codemirror_mode": {
    "name": "ipython",
    "version": 3
   },
   "file_extension": ".py",
   "mimetype": "text/x-python",
   "name": "python",
   "nbconvert_exporter": "python",
   "pygments_lexer": "ipython3",
   "version": "3.7.0"
  }
 },
 "nbformat": 4,
 "nbformat_minor": 2
}
