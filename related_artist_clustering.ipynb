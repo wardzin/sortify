{
 "cells": [
  {
   "cell_type": "code",
   "execution_count": 1,
   "metadata": {
    "collapsed": true
   },
   "outputs": [
    {
     "name": "stdout",
     "output_type": "stream",
     "text": [
      "\n",
      "\n",
      "            User authentication requires interaction with your\n",
      "            web browser. Once you enter your credentials and\n",
      "            give authorization, you will be redirected to\n",
      "            a url.  Paste that url you were directed to to\n",
      "            complete the authorization.\n",
      "\n",
      "        \n",
      "Opened https://accounts.spotify.com/authorize?client_id=b69a9985fa8842deb0691b2d0e3f0b69&response_type=code&redirect_uri=http%3A%2F%2Flocalhost%2F&scope=user-library-read in your browser\n",
      "\n",
      "\n"
     ]
    },
    {
     "name": "stdin",
     "output_type": "stream",
     "text": [
      "Enter the URL you were redirected to:  http://localhost/?code=AQDXIot_A0QWROEl41s92TupaWJWip3O-iVg3SNljskTSoY3Be8SP3Z_4eX8BX-oEQFKSbv1YAmEhl4kegk6acL9QgPQTf0-IOjp_KYuqBP0qbaSeqwXFR88yVDMym5eHvAQmrLQYhiy0JnOLVX0nkNab1pwxtF6OCVxwCqdII58BBYTF_wegn9J4c3UkO5uz9YOJvl6xGr7UKug\n"
     ]
    },
    {
     "name": "stdout",
     "output_type": "stream",
     "text": [
      "\n",
      "\n",
      "725 tracks fetched\n",
      "354 artists fetched\n"
     ]
    }
   ],
   "source": [
    "from IPython.display import display\n",
    "import spotipy\n",
    "import spotipy.util as util\n",
    "\n",
    "client_id = 'b69a9985fa8842deb0691b2d0e3f0b69'\n",
    "client_secret = 'd9e9ae2924174c139a5a9ccb303f9f3a'\n",
    "redirect_uri = 'http://localhost/'\n",
    "\n",
    "username = '12182784645'\n",
    "\n",
    "token = util.prompt_for_user_token(username, 'user-library-read', client_id=client_id, client_secret=client_secret, redirect_uri=redirect_uri)\n",
    "\n",
    "sp = spotipy.Spotify(auth=token)\n",
    "tracks = []\n",
    "\n",
    "offset = 0\n",
    "while True:\n",
    "    track_set = sp.current_user_saved_tracks(limit=50, offset=offset)['items']\n",
    "    if track_set:\n",
    "        tracks += track_set\n",
    "    else:\n",
    "        break\n",
    "    offset += 50\n",
    "print(\"%d tracks fetched\" % len(tracks))\n",
    "\n",
    "artist_names = {}\n",
    "artist_tracks = {}\n",
    "all_artists = set()\n",
    "for i in range(len(tracks)):\n",
    "    tracks[i] = tracks[i]['track']\n",
    "    track_id = tracks[i]['id']\n",
    "    \n",
    "    artist_id = tracks[i]['artists'][0]['id']\n",
    "    \n",
    "    if artist_id not in artist_tracks:\n",
    "        artist_tracks[artist_id] = [track_id]\n",
    "    else:\n",
    "        artist_tracks[artist_id].append(track_id)\n",
    "    \n",
    "    for artist in tracks[i]['artists']:\n",
    "        all_artists.add(artist['id'])\n",
    "        artist_names[artist['id']] = artist['name']\n",
    "print(\"%d artists fetched\" % len(artist_tracks))"
   ]
  },
  {
   "cell_type": "code",
   "execution_count": 2,
   "metadata": {},
   "outputs": [
    {
     "name": "stdout",
     "output_type": "stream",
     "text": [
      "Genres fetched\n",
      "0/635 artists processed, 0 fetched\n",
      "0/635 artists processed, 0 fetched\n",
      "0/635 artists processed, 0 fetched\n",
      "0/635 artists processed, 0 fetched\n",
      "0/635 artists processed, 0 fetched\n",
      "0/635 artists processed, 0 fetched\n",
      "0/635 artists processed, 0 fetched\n",
      "0/635 artists processed, 0 fetched\n",
      "retrying ...3secs\n",
      "retrying ...1secs\n",
      "retrying ...2secs\n",
      "retrying ...1secs\n",
      "retrying ...2secs\n",
      "retrying ...1secs\n",
      "retrying ...2secs\n",
      "retrying ...1secs\n",
      "retrying ...1secs\n",
      "retrying ...1secs\n",
      "retrying ...1secs\n",
      "retrying ...1secs\n",
      "retrying ...2secs\n",
      "retrying ...1secs\n",
      "retrying ...2secs\n",
      "retrying ...1secs\n",
      "retrying ...2secs\n",
      "retrying ...1secs\n",
      "retrying ...1secs\n",
      "retrying ...1secs\n",
      "retrying ...1secs\n",
      "retrying ...1secs\n",
      "retrying ...2secs\n",
      "retrying ...1secs\n",
      "retrying ...2secs\n",
      "retrying ...1secs\n",
      "All artists processed\n"
     ]
    }
   ],
   "source": [
    "import networkx as nx\n",
    "\n",
    "def chunks(n, x):\n",
    "    return [x[i:i + n] for i in range(0, len(x), n)]\n",
    "\n",
    "artist_genres = {}\n",
    "for chunk in chunks(50, list(artist_tracks.keys())):\n",
    "    for artist in sp.artists(chunk)['artists']:\n",
    "        id = artist['id']\n",
    "        artist_genres[id] = artist['genres']\n",
    "print(\"Genres fetched\")\n",
    "\n",
    "try:\n",
    "    G = nx.read_graphml('related_artists.graphml')\n",
    "except FileNotFoundError:\n",
    "    G = nx.Graph()\n",
    "    \n",
    "i = 0\n",
    "not_found = 0\n",
    "for artist_id in all_artists:\n",
    "    if not G.has_node(artist_id):\n",
    "        not_found += 1\n",
    "        related_list = sp.artist_related_artists(artist_id)['artists']\n",
    "\n",
    "        for related in related_list:\n",
    "            artist_names[related['id']] = artist['name']\n",
    "            G.add_edge(artist_id, related['id'])\n",
    "\n",
    "            sub_related_list = sp.artist_related_artists(related['id'])['artists']\n",
    "            for sub_related in sub_related_list:\n",
    "                artist_names[sub_related['id']] = artist['name']\n",
    "                G.add_edge(related['id'], sub_related['id'])\n",
    "                i += 1\n",
    "\n",
    "    #             ssub_related_list = sp.artist_related_artists(sub_related['id'])['artists']\n",
    "    #             for ssub_related in ssub_related_list:\n",
    "    #                 artist_names[ssub_related['id']] = artist['name']\n",
    "    #                 G.add_edge(sub_related['id'], ssub_related['id'])\n",
    "\n",
    "    if i % 100 ==0:\n",
    "        print(\"%d/%d artists processed, %d fetched\" % (i, len(all_artists), not_found))\n",
    "        \n",
    "for artist in list(artist_tracks.keys()):\n",
    "    if not G.has_node(artist):\n",
    "        del artist_tracks[artist]\n",
    "        \n",
    "nx.write_graphml(G, 'related_artists.graphml')\n",
    "print(\"All artists processed\")"
   ]
  },
  {
   "cell_type": "code",
   "execution_count": 3,
   "metadata": {},
   "outputs": [
    {
     "name": "stdout",
     "output_type": "stream",
     "text": [
      "Graph nodes: 74274\n",
      "Graph edges: 293294\n",
      "Graph components: 9\n",
      "0:01:37.602059\n"
     ]
    }
   ],
   "source": [
    "import numpy as np\n",
    "import pandas as pd\n",
    "from sklearn import preprocessing\n",
    "import seaborn as sns\n",
    "import matplotlib.pyplot as plt\n",
    "from datetime import datetime\n",
    "from multiprocessing import Pool\n",
    "from functools import partial\n",
    "\n",
    "print(\"Graph nodes:\", nx.number_of_nodes(G))\n",
    "print(\"Graph edges:\", nx.number_of_edges(G))\n",
    "print(\"Graph components:\", nx.number_connected_components(G))\n",
    "\n",
    "artists = list(artist_tracks.keys())\n",
    "distance = np.zeros((len(artists), len(artists)))\n",
    "start = datetime.now()\n",
    "iters = 0\n",
    "\n",
    "with Pool(4) as pool:\n",
    "    paths = pool.map(partial(nx.single_source_shortest_path_length, G), artists)\n",
    "\n",
    "i = 0\n",
    "for lengths in paths:\n",
    "    source = artists[i]\n",
    "    for j in range(len(artists)):\n",
    "        target = artists[j]\n",
    "        if target in lengths:\n",
    "            distance[i][j] = lengths[target]\n",
    "        else:\n",
    "            distance[i][j] = np.inf\n",
    "    iters += 1\n",
    "    i += 1\n",
    "    \n",
    "print(datetime.now() - start)"
   ]
  },
  {
   "cell_type": "code",
   "execution_count": 4,
   "metadata": {},
   "outputs": [
    {
     "name": "stdout",
     "output_type": "stream",
     "text": [
      "[0 1 2 3 4 5 6 7]\n",
      "7 57\n",
      "2 57\n",
      "6 27\n",
      "1 110\n",
      "3 27\n",
      "5 28\n",
      "0 32\n",
      "4 15\n"
     ]
    }
   ],
   "source": [
    "import sklearn.cluster\n",
    "import sklearn.metrics\n",
    "\n",
    "connectivity = nx.to_numpy_matrix(G, nodelist=artists)\n",
    "similarity = np.exp(-distance / distance[ np.isfinite(distance) ].std())\n",
    "# for n_clusters in range(2, 13):\n",
    "# dist = np.copy(distance)\n",
    "# max_value = dist[ np.isfinite(dist) ].max()\n",
    "# print(max_value)\n",
    "# for i in range(len(dist)):\n",
    "#     for j in range(len(dist)):\n",
    "#         if dist[i][j] == np.inf:\n",
    "#             dist[i][j] = max_value * 2\n",
    "\n",
    "#     clustering = sklearn.cluster.AgglomerativeClustering(n_clusters=n_clusters, affinity='precomputed', linkage='average', compute_full_tree=True).fit_predict(dist)\n",
    "# clustering = sklearn.cluster.DBSCAN(eps=3, min_samples=1, metric='precomputed', n_jobs=-1).fit_predict(dist)\n",
    "#     print(np.unique(clustering))\n",
    "#     print(\"%d cluster silhouette:\" % len(np.unique(clustering)), sklearn.metrics.silhouette_score(dist, clustering, metric='precomputed'))\n",
    "# print(sklearn.metrics.silhouette_score(dist, clustering, metric='precomputed'))\n",
    "\n",
    "clustering = sklearn.cluster.SpectralClustering(n_clusters=8, affinity='precomputed').fit_predict(similarity)\n",
    "# clustering = sklearn.cluster.AgglomerativeClustering(n_clusters=8, affinity='precomputed', linkage='average', compute_full_tree=True).fit_predict(dist)\n",
    "print(np.unique(clustering))\n",
    "artist_cluster = {}\n",
    "cluster_artists = {}\n",
    "for i in range(len(artists)):\n",
    "    artist_cluster[artists[i]] = clustering[i]\n",
    "    if clustering[i] not in cluster_artists:\n",
    "        cluster_artists[clustering[i]] = [artists[i]]\n",
    "    else:\n",
    "        cluster_artists[clustering[i]].append(artists[i])\n",
    "for clus in cluster_artists:\n",
    "    print(clus, len(cluster_artists[clus]))"
   ]
  },
  {
   "cell_type": "code",
   "execution_count": 6,
   "metadata": {},
   "outputs": [
    {
     "name": "stdout",
     "output_type": "stream",
     "text": [
      "7 9.0\n",
      "2 8.0\n",
      "6 8.0\n",
      "1 9.0\n",
      "3 8.0\n",
      "5 8.0\n",
      "0 8.0\n",
      "4 7.0\n"
     ]
    }
   ],
   "source": [
    "cd = {}\n",
    "for i in range(len(clustering)):\n",
    "    cluster = clustering[i]\n",
    "    if cluster not in cd:\n",
    "        cd[cluster] = distance[i]\n",
    "    else:\n",
    "        cd[cluster] = np.append(cd[cluster], distance[i])\n",
    "\n",
    "for cluster in cd:\n",
    "    print(cluster, cd[cluster].max())"
   ]
  },
  {
   "cell_type": "code",
   "execution_count": 32,
   "metadata": {},
   "outputs": [
    {
     "name": "stdout",
     "output_type": "stream",
     "text": [
      "{}\n"
     ]
    }
   ],
   "source": [
    "print(artist_cluster)"
   ]
  },
  {
   "cell_type": "code",
   "execution_count": 7,
   "metadata": {},
   "outputs": [
    {
     "name": "stdout",
     "output_type": "stream",
     "text": [
      "cluster\n",
      "cluster\n",
      "cluster\n",
      "cluster\n",
      "cluster\n",
      "cluster\n",
      "cluster\n",
      "cluster\n"
     ]
    }
   ],
   "source": [
    "counts = {'cluster': [], 'genre': [], 'count': []}\n",
    "for cluster in cluster_artists:\n",
    "    print('cluster')\n",
    "    genre_count = dict()\n",
    "    total_tracks = 0\n",
    "    for artist in cluster_artists[cluster]:\n",
    "        for genre in artist_genres[artist]:\n",
    "            if genre in genre_count:\n",
    "                genre_count[genre] += len(artist_tracks[artist])\n",
    "            else:\n",
    "                genre_count[genre] = len(artist_tracks[artist])\n",
    "        total_tracks += len(artist_tracks[artist])\n",
    "    for genre, count in genre_count.items():\n",
    "        counts['cluster'].append(cluster)\n",
    "        counts['genre'].append(genre)\n",
    "        counts['count'].append(count / total_tracks)\n",
    "\n",
    "counts = pd.DataFrame(counts)\n",
    "counts.sort_values('count', ascending=False, inplace=True)\n",
    "original_counts = counts.copy()\n",
    "\n",
    "clusters_to_name = set(counts['cluster'].unique())\n",
    "playlists = dict()\n",
    "while clusters_to_name:\n",
    "    cluster = counts.iloc[0]['cluster']\n",
    "    name = counts.iloc[0]['genre']\n",
    "    playlists[name] = cluster\n",
    "    counts = counts[ (counts['cluster']!=cluster) & (counts['genre']!=name) ]\n",
    "    clusters_to_name.remove(cluster)\n",
    "    \n",
    "playlist_tracks = dict()\n",
    "from collections import OrderedDict\n",
    "for name in playlists:\n",
    "    playlist_tracks[name] = []\n",
    "    cluster = playlists[name]\n",
    "    for artist in cluster_artists[cluster]:\n",
    "        playlist_tracks[name] += artist_tracks[artist]"
   ]
  },
  {
   "cell_type": "code",
   "execution_count": 12,
   "metadata": {},
   "outputs": [
    {
     "name": "stdout",
     "output_type": "stream",
     "text": [
      "{'hip hop': ['2KBo6O5rkNdtYT3wYjkEkq', '4pdLZsxq0y5oJDb6Cxlokw', '0WFS2dD69nOF7UQOlC0uyE', '5sesHCQziHg85y8dlnNWJC', '2MAaiV0bbeq4FpSwPe2rR8', '1qju0WsEHiDZoOBBDp8aAk', '225WLJ4RlbSMSAZnjMYEt7', '1ulwVPRTo1H1Ae8LGybH5B', '4k2ix82xyGax7S8u6ODb6B', '0V5zAGdvO780GT3gtdxzLt', '0FEvXUlnFqVhDgc5qtFSft', '6t5KVI0lyngpvFr9jkit9C', '3EyNj8ps0rYIAF4xIpFCjc', '0ng3EsPSuIhLOoYMedRh5s', '3R8CATui5dGU42Ddbc2ixE', '5XK1xClRUXSwCUu4I0E1RV', '2yDqLOQH1uQf3FGhcCmcPF', '4F0bdomwbOcuXfmfXJnjDZ', '6W64rkTWrtxwLVKcVbiKlf', '1BkE3G11yJvFBMIwM2nB3g', '4W3ogZe4TwUzfwgwQErOMf', '7h7d9DhSiOVooDxCICbm6e', '4cTBph2s5eMVQH9mu6LqB3', '2KRKpYhnVJbtBJ08kwNk1q', '08Ar75Td2vFXnKv750IAsC', '18uAu5gCnoGGNYQu8LeAr1', '0shK5iZQppbHPQYiy60xs9', '6bUNEbXT7HovLW6BgPCBsb', '1zb9cdsTMrEEL2Ut8rmTb6', '0I3q5fE6wg7LIfHGngUTnV'], 'rap': ['28FGV3ORH14MYORd7s5dlU', '0evt4UZbdhnHtcAnxkm6A1', '60SdxE8apGAxMiRrpbmLY0', '4YYAKYdNI2PgOItxRVmIIB', '5WvAo7DNuPRmk4APhdPzi8', '4IIUaKqGMElZ3rGtuvYlNc', '3OoZagIW3YK8vjt0ws6NOI', '3DXncPQOG4VBw3QHh3S817', '0JP9xo3adEtGSdUEISiszL', '35ieKju5aLWFN5UgfJ27mL', '3EApebexZ7YqDIqw2EMTDh', '3ZLyt2ndLFBh148XRYjYYZ', '0s3nnoMeVWz3989MkNQiRf', '7ycWLEP1GsNjVvcjawXz3z', '1sPLURKAosM3Jampgp9AWq', '1cTZMwcBJT0Ka3UJPXOeeN', '61T2H6w0ggQdhCvVegLl99', '5mCPDVBb16L4XQwDdbRUpz', '0k9RIzZtAo4DTQu0ZM6lNZ', '7bvoCZHNGrtGvWM9eYmesO', '76kyKtPLsFbQkdQ86QrkF4', '2KvHC9z14GSl4YpkNMX384', '2bjwRfXMk4uRgOD9IBYl9h', '11hqMWwX7sF3sOGdtijofF', '1ID1QFSNNxi0hiZCNcwjUC', '12d5QFwzh60IIHlsSnAvps', '5InOp6q2vvx0fShv3bzFLZ', '2durxb17bXcmQJHSt8JAdO', '2VYb3Fb5iK5Y8HGZ8oEEkp', '6Bg7MznA9X0dIhlAsLyBYj', '3uYDO9dPLTVrgfwg7EYXSf', '5e5MKPtJuFb8NaeSEyV5gD', '4mnVTZqDC2fy2Sh1ooKEse', '0j35X8cTq543QDYLOyqB8W', '3KUpGMnZL76I9E7FoWV1re', '62r62ArmWq38cu6QCVgyTc', '2cYZpcIV39X48RnOFM7w2V', '2dxjKgT0li4qBI3QwuN9Ih', '0ua0Go4NN4Td7l0Zre6Ce3', '27eO3EGKIUU7yug1eOxUZu', '7hNx9Dynz2fRO41L9AEVA8', '1UGD3lW3tDmgZfAVDh6w7r', '3DK6m7It6Pw857FcQftMds', '22L7bfCiAkJo5xGSQgmiIO', '3sNVsP50132BTNlImLx70i', '5nIu0VwPOsjkF61zfevLKh', '1ZnA4VYOlYIShuGt60LmCs', '432hUIl3ISDeytYW5XBQ5h', '1eQBEelI2NCy7AUTerX0KS', '3nAq2hCr1oWsIU54tS98pL', '19a3JfW8BQwqHWUMbcqSx8', '4KW1lqgSr8TKrvBII0Brf8', '7GX5flRQZVHRAGd6B4TmDO', '1EaKU4dMbesXXd3BrLCtYG', '1zayuwd1YLZsYDArkruHdL', '2b3KgzISdjZVNPJJ1945nw', '3q2v8QaTnHLveAQzR6gvYm', '712uvW1Vezq8WpQi38v2L9', '0AOvNRgl0SMfOibWA5bP8o', '40IQooNkPRVtn4zlE3ZFpA', '0y9uTzK9cNKSAEHnpeRG8C', '6IZvVAP7VPPnsGX6bvgkqg', '6SwRhMLwNqEi6alNPVG00n', '6PGoSes0D9eUDeeAafB2As', '6HZILIRieu8S0iqY8kIKhj', '7KXjTSCq5nL1LoYtL7XAwS', '2P3SLxeQHPqh8qKB6gtJY2', '72hFOhhhnOJZnnp6uVOgPn', '7A3ETuOrieyx9KSF0sn0Zf', '6fAyRZ0GHuuvSOEIOwi58N', '2HbKqm4o0w5wEeEFXm2sD4', '27oFpFktCq9JIXjJQRuv7a', '5RCfvwDewu6p2x1mEI6smX', '4Q3N4Ct4zCuIHuZ65E3BD4', '3BiV4P63BaAXmd3c0dE4qU', '1yxgsra98r3qAtxqiGZPiX', '1wHZx0LgzFHyeIZkUydNXq', '6gBFPUFcJLzWGx4lenP6h2', '51rXHuKN8Loc4sUlKPODgH', '65NwOZqoXny4JxqAPlfxRF', '35r28RDot7nPE7y9K9H7l0', '6eT7xZZlB2mwyzJ2sUKG6w', '3a1lNhkSLSkpJE4MSHpDu9', '45Egmo7icyopuzJN0oMEdk', '248OFOZef6ShXv6DGgbnxU', '2X4e6NJt9YJy7C93JNnTqO', '1F2HXIJrE2Xn81OzT2zZvW', '6gU9OKjOE7ghfEd55oRO57', '0q75NwOoFiARAVp4EXU4Bs', '7GPstnufSTScEaw9dMxO9H', '1DRW9bQzt2SE8f7H4KJZyL', '6R6ihJhRbgu7JxJKIbW57w', '2q0VexHJirnUPnEOhr2DxK', '6gtNiLJNLBcV0P6Juenstp', '7DfFc7a6Rwfi3YQMRbDMau', '19YKaevk2bce4odJkP5L22', '5GUYJTQap5F3RDQiCOJhrS', '2ZWlPOoWh0626oTaHrnl2a', '7eqoqGkKwgOaWNNHx90uEZ', '6Nle9hKrkL1wQpwNfEkxjh', '20dP2DaMHIAmwWAbp7peSr', '3kxfsdsCpFgN412fpnW85Y', '6DB2KOEwHnjkgEnBt5SdeJ', '5264rU21ndum3CYYaSGUUm', '4v7DCN09hgXkKazefkznDQ', '7I6DceMT3utDOHjcYCbrr4', '2KpCpk6HjXXLb7nnXoXA5O', '2HNcNd5RPZ7DSRNbIl6JsP'], 'edm': ['36fTP27G79me2HwuzGSz7a', '59kPxHfDD1lZqunlkJqBab', '1kW0EhrR7VdrXRexVIDIiB', '1zqHf58PoRTAkAu2O30UPj', '7Mcbk8CghT5wE6j4WfG2uQ', '569BGSWQapYD8Niuy67Cal', '0YchKPFRbVwwO4dH5hKrRi', '0OHM9umzY9M3F7OFyAnJtb', '6dd5Z6ndIrQYDNcap0yTFD', '72d2C30JK5zBKd8WVmf1t7', '0yy53aoEPrDMRhgaVcloN8', '2CgOd0Lj5MuvOqzqdaAXtS', '4oxxBRHWfjfbOUtlRcYtCI', '2B82lM5cVsPHpQYUTzsTnm', '6U1NDB1DscqQUGSHJnNwLL', '042vge6apfznZWHPOLIMZ9', '5yQmKyKEdjtxFDPIK9mFLn', '0KC9HylSqs3lD99EXgGtNS', '2g0v8EFQyk9JGNqdWFU4Tl', '30UhrOCXvHF3Xtbv6kTfkE', '2u6tZMWwhgnRggKHvRWINP', '0c8X4ApJu6CNEXoIb5VKMo', '1w6qZZhfrImAU2gllRtxo3', '64PU8z3QYjCM95OOZ7Am1S', '0qe9SYZsYpO9UdrwtBHGgY', '64YQaysLaXYYHVyqQu4It2', '1fR961e0W4W2eeRdjfcrNn', '4s3KFWXxdIbHyKnuLIImSb', '5iI9bdhRUfc2ehGOyloYHf', '31tZUgVMQIE24zZvbLLaXN', '0nRlHE70ue9oVeXRLiPqmC', '0VO9XDSrtgwaxQ1WHVpmci', '4D6fM494XgqPdKCprx8Hh0', '74xgkOnh7tAcWKVto858cY', '4ztmlSZinz3IbpJU5YX7JG', '1RJZLVGpBG9nNZiHRQSWTp', '00k4IcdhoUtt3fBATrDyhh', '4rwpZEcnalkuhPyGkEdhu0', '6I9sncEmtGc9rpKyb8U1f8', '1A3XPibNuMPTbTWlPgRfTD', '2HN8Y2Mkp9xikxGR9VJXoa', '1aF6jpITT6RzPxrYsZJeIm', '2TkoUq8sPXmc4KYzKBiTWT', '57p8CBvPOxrvyCbn6ttl5r', '5cxKaqhE6tXXrXe5R6lF38', '2DRzRvtZtQkK6dC7gDJSGj', '6Utlx8Vi4owU9Pru2ZVNSn', '5gfQQoGnAwmO74Ln8lVhWn', '24hYr62Cz2iA3OOef8mykI', '2fskG5GBNDOADuDdDWSan5', '40xDsfw19rK9v8pez0LWgv', '72svLiYZ4D14ryt056I66v', '3omHpz9fmngYFdHDRLGeRZ', '46L9j7CjtctvVNSZTmEJrx', '7fyx7nBQTEtYrfXc0UgUYs', '13xDNcUNMt4L9y6ckxeQJ1', '121RPrKvMhdaWxQiNjdU6N', '5hKffhqHma1j7ijxfTj3ps', '0Q3SC6kEhxYagDP3bFe5K9', '21JvBMXPGJ6rpvHacAFWUO'], 'lo-fi beats': ['5K2FHjsNzz7N5ZmIh4CKSy', '2sQ3Fq8Hdzjpgh8gk7JxrO', '310YJE5J0NjPR42Qs0mByk', '0ciEzWBcxZYTzA1NkSALsq', '1u7YoIlNxanPdGU9SOsgef', '0oX75M5oIgft6yF9F8ror7', '6oNi39CXeWd64Z0qCoIKEL', '2vNYXaWycnzYWKj4PCX92p', '64np3Bgi6DgwyAuR1DlloZ', '5RBSjHMYeUZo1N21tqUnn9', '5qC17VMNoZdF2gAw28FtsV', '3pUMsLZIy50bhHOR8K8EKG', '7GPxO1sEVCo1ZFuZ6NgSdV', '6kLxFUz5smYFIIeg6eAtm9', '6kaUhkyaC1YlNxnLpQRla5', '6L7WfQd7AOF4cyVITJbKQq', '41hXE5S8D4mRfcdqSMpmAC', '3Pm3R9cbWkanONrubREjW9', '6Pvr6ioPciOP4Qq37t3Myt', '4DJ2Zr2jLMEh0ejBEwOrWq', '4GDxhHtyQN9cwPXTuEe9pN', '0svuiXl2gdJnzlqNutJmPf', '74GRNaQj1fNWAjKGv5wstB', '0zctjs2zRFDA8o5LlKEFLx', '1N5PctmLYBc68DFqil8Ig9', '4oUH8TpIYUcnESiZmSSJzi', '1UpjgfF9lMg9rXpbezIzqh', '7e7lYBH4xPqBiYqlY04u9o', '1TQxyQFROdDPMxyHpVfrQW', '2cPFYT8hXwqKz7h3phCaR4', '77Uo6nqkmG5eFLgTuQcZIV', '5t9xjVR1jxhgIiutBVARQb', '4qnVWFIKCC8m6Itm64ZRVu', '54SQMXLXKeWY4AdDWtEGpF', '6yQAEsafS2M3BAkZD5rk7Q', '0WshQ2UCjrjloGGdo9isov', '4bOr88BuLILM22g8FKQWrG', '7g6CgWcPrukuPYSnFqbkD0', '6ibjzaiOGVPylaU0qUg08f', '05nyOUGLux2e2fdiH8GkPR', '1oQD23mITtKyx8zPDWH0MI', '734NLvG4VpQLp38ai9VMqF', '5AxDP2k21q0ogKjnbsDfmt', '0FyyaOqhcXbnHOErtg1MQG', '6aaS03GJ1zwlZ13onpUmec', '2RIIliJdO6WvChLeK1NalT', '3CFS6vCzVVsWL5veYusCe7', '4XTapkMqPyPXi9nkWEggSj', '2hf0hoaSwrs3Fk5Ure9JvV', '4Kq4zhiHGQLuUFn4sT0tVe', '5JDIXfiWDdytCj9k0P7D0f', '3U19GVybWYwG0wMXzrgL2h', '73Bi2hOxwHJDwg4L9SPD3q', '0gvKmUcc07qNgSjWkGyiAd', '24Jk4wYlLRXI9TUMdkHoMN', '4kVmLlBnLcfXIZIIhq3VUq', '79jxmvkxHBcMS9RgM3bc4t', '1kIjBQDbDt9zXZvFkeQgzd', '2DAhI56V6vVe3EwPlMnOlh', '7txQZ8sX87dh9ApdT3ZUnw', '6IzyG09gDHM8aE5OiEof3I', '7jpByQbgFibwOTZN3nqfWW', '6ghICeprXG957CqdLx67WN', '0VnQoGPmd4vnoegYRaSxqe'], 'tropical house': ['2wQ411UQL2MRsdAgPRUstT', '5BIjJP1zlOa3iY65RSkXkr', '4kWO6O1BUXcZmaxitpVUwp', '4oOQ5XZuR4ywDje9SjiA7d', '3ebXMykcMXOcLeJ9xZ17XH', '2P4OICZRVAQcYAV2JReRfj', '0P2w9CiYk8A25AWUqPSXDr', '65hRZOQkVjmBdusz1N7aOv', '2V65y3PX4DkRhy1djlxd9p', '0E9ZjEAyAwOXZ7wJC0PD33', '1XxTcFSRjMqwHHNPL64yvh', '7guegNxwAH0uZsQx7i69Iw', '42xDAj5qNVFcxciJP3hSJd', '1URtDnUcIYpJh67cSoL6fL', '6BKeNWeUqxmvQ09Gxd3ZGX', '0diFLcRkJSHrhZuAJmGxjY', '5wldXGLEOoRXxMWJ8rIUWE', '7zsXy7vlHdItvUSH8EwQss', '1dFkD1JfRMzwO6hwUsE8aS', '09IStsImFySgyp0pIQdqAc', '0xTGfdrWzJLKRD4U6hxSsg', '6jNM6fKx3WnyHbWBI9hs2r', '3gSUd6yjk3Xn2XkmjkKF5r', '0KmJ45CPuHMQpNMY42xDUl', '40ZN3DCKsiw41kRO7JxoNZ', '2aOlxywgl4nCD4Xh2mLWM7', '3emgZsn8jToOwjrAtgSh8v', '2MHCiOohBZEQuLgDTPvSzF', '6SRnVRobwLtovI4JEWejDv', '08VgrfLysX34iY5D7DZQnw', '58dRWzUkWuDog9P9jbjvJv', '3nVuy5V24D6XMGwEumXgaH', '6KZmDucZFfvxGJkrHInbix', '7ef4DlsgrMEH11cDZd32M6', '7C5Jk5c6Y1LWbXCcPS6ATS', '7MmG8p0F9N3C4AXdK6o6Eb', '1i7euLyKJQReRKHpR4M4fF', '43V1z6QToNNWNldV4FEG6r', '5uKKWtd0l4ZNC5gUndKCme', '0rR4E4UdzHg0E0ySbbHhUW', '15DwFznkBJir7AK9PyMyRR', '1CSk9lJFJt4OdcvOH5iK61', '7A0kyzZwkyztNsNeEsTiPX', '1YMBg7rOjxzbya0fPOYfNX', '0dbQ4h3cs8QE5fOPMYdDrX', '26haJjtanhamtf25RXH0MO', '5QewRG7VkZtBkAxWT5prZq', '2NvyKQtbrTYyiCHnmYrBRa', '7bXWSg5gd0Em0eQ5xpthWF', '6YwLgicpvVuMt1eE2OldwQ', '3gFGqm3n4eyFCHdlUip7xb', '12XyYbQRWeMJjn7k0I3oyA', '0aI0qlCR2OKu0Tr1tkO3pS', '3UgSQu6WwrXfKKDq019IHE', '6ZpR2XFuQJSHAQwg9495KZ', '66hayvUbTotekKU3H4ta1f'], 'electronic trap': ['3cCblz9pXG41vdG6byAbZH', '4lEQGE5sVAnx7sbDANs2Fu', '3k9M9YVSksBUFZzlxb3iMn', '0PFuQEgEvZ9yM20LymJlqX', '5oeJbBuZwo04t4AAIaYh2S', '1VZmjJ3WV1nc3ojykNVxFa', '5qe8praT5O4BKkTA4Hxab6', '6PMXCAKSAH7GAZkmUwQ5hB', '5GfGxUVJHLV9NXNNMGIuCg', '6Yvs6s1lnqLGAlEedPPUdY', '0KL9K9gnnbVEdA5t1F6EIs', '4NvDs1kRKYdR5jacOH6aCC', '74FicKIBqMkuZVPrBpv03n', '0SUCBXhbG1oeklyxvbfXUB', '4FWy01sbPGBv2VaaZwCJC9', '4ZbQvhuML79GPnoxloXE0j', '4HrI0DIPyvRF1cxUUAGQJc', '74oqf83WhPNEiU6kxJFqBC', '7oPBOAbSDwZXzmK0kbrug4', '7kbolnLQV1qdn5hWfiIAXY', '25DHR3vMzKxc4pkdfNx1b9', '5HbTUbKSPeNh75aKSW66OF', '1j3s6SE0wUgJfBULiHfgCv', '4xGvxA2OtBDObg31KbDrOU', '24vQXnRwmcJm88O921HqF6', '7kTZFlceZCBXSRnolUxtCk', '6tv43DiBgTHgC0dtID2MXW', '4onD2lx2ohTTT48FRDCH7h', '3jjUphDBlbPzWD3Ft3tya1', '1yd3iMLXISa8Dny1E6l6Fq', '4Bym5yKSNCWzXrJRu33iyg', '1tndktY8ZFXapGYIeHUGR2', '5KkpSVa1x2xI9Jo70VAOw5', '3dlVDddut0PTkGTxLHoHmD', '7EIVey4WdFfWjQh1xlAgRX', '2KbVg7OSdYOGVcIypxvJOS', '32DF61LCyB0t9SamSsEuFX', '0fAH2CJwcoS9JCMTRlLcWG', '4G3IXyVRxSx5lLhUvv3fu3', '4idO4Mj5a03P7Wj969mzXt', '4Y8YuvdNEyGufrEO5fac26', '5V6LrgVTGOU0T68holDtR5', '6TfB9r2QKe8KiNuyfEcpzG', '3oY6zbZ5ryPA7ZLOHkjjQc', '249HCa5OD6e62m6dMnWSzX', '21hp5rOGz4R4eaJZgEuciM', '4tTFMLph2GZzgDCMbnKJZG', '1Dk4DyvkcOaAzsY7kBIrMi', '5cRNVY99tj2T5HrCd2v1WX', '3mof6Z6vz6gonsuIEQXank', '24yNXn4weoeJEJ1aotL8NR', '7gWxvpDZlRACCOjEpBUKhk', '4iaNGs3hnqo5DHuAoafs4u', '447yWcDPg1ddgcHBLGpJC0', '1uf5f99kLdlmUBEvVqrFyy', '0z95CqBxQnSQhNnoWTZJKL', '1QDj4fRaGLSpQPniEhqaOI', '4RJ4EnyIwcq2tzin5QrDRr', '3ScAsYSE87HhYX5B4CdRXZ', '1eAoilR79bjLWEmxmdC1eV', '2r1qWpwq4WeHcngWVWnIj4', '79tkvg65mPG8wUlurzj3Wv', '6tWSBDXsESsiGMfvR4MRMi', '2egKQvoHiCJyHXn8lRlsrl', '2e6he0ydsChPv44oTVC7CO', '6mLXyq7hqGCQSnMpu5CWLE', '44er6i2sziqJkHAWXUwvhZ', '6YhZM8eI0DaiNcKgZZBA4M', '089tprIgsyFSOrZpugamLI', '0L4Xokk7jMJL0tJs3M3jxv', '3qxPG5JfjXzUNzFz3HnrBS', '6TdweeWiGv35hKXn3tARjA', '6VrCmhRBFnuGKmtNfk4jDs', '7vGuf3Y35N4wmASOKLUVVU', '1VxogbO6bfygdfaCnE9oLb', '1bc9C43HNyq8Gdct0UPRdg', '3LPMQUkEKtvgZjVHyxutHA', '4uUR5DzNHxOiF04b0s4BOK', '7ml0OAl6zPs4czZ9ABR3GR', '7xGj4OC892n1UzJq2jm3Pf', '3ijnR2aSHMPE1ztcZHNEYy', '4zqD4T6dUGomGazJ0tjlF0', '7ipGvvE90ROUNFw7ZBXBTO', '6OiOs0sxOk3vxuEjFBwAhn', '01okpq1Ab6UKCSPA4Kbor8', '7sXg1VmdnM1Ho3aJPya5SC', '59QmjU5K8XQTfj9JjFNb4Z', '6YD9XQ6woFtacq7kPCfEGL', '51586Bk1HCTnlb2qi1k8g1', '0sEsDkuoAc7Cx63VRHFSd1', '56lfiApDTYBslfBRpmghz6', '1tiC8QJASx6lGHBMEpFawS', '2prmi5njAe1nHkxFWh3Hbm', '4iNoqM0X35E4AK4pzWFW5z', '7mY2gmBPnmt4SJqkhPTLnf'], 'chillhop': ['4dwdxq3F1W4BqyrJYruYL8', '4d6S6OCLGvaWMc1AQsyT4F', '3KkmP5Puva93ed2BddBDAf', '2ANNGdtHq25qsHbXvzZH9h', '1LMmtQcanJ1SQ6GB08NZsR', '6XI1gqQQ3X11EIneXmtfp0', '2iiPQdsNjhd0cQg8dHWkyD', '0iHQfrEOnwlDhjdX4zB1tu', '0X7rrzflUKygU7ROPBvRKM', '5fLNF9Bky6aCTHoW4rpeF0', '3otXYjXFBvBrZ4IYn2k4iv', '2mssuAa5xshIx2c06p1c2F', '76I1mEj3vKHgwwO43MdNpI', '7duGNNDQgLaT0d1kLyyD3V', '06XuHBFQejxy9jhNBaHEwx', '0dO2Rvf0Gw8u0FyQrViT67', '5iGDHpBu0oAA4FHoEwYOE3', '2LAADRyMblXuDfKZ8dm8LR', '5FQL9Ur9NENmezh6zyG7uh', '1A2jNyCV3prlm58Qz95BBN', '2s9C5THb9llwyVXtjveV4E', '23e6ly5nFanMQOk4cAwJj2', '1v3d0CkPDRA7JgBQUv4osh', '3LoDkvY6GZm8PkYyupKzam', '3amXZ3JRbtoxR28hUBMyan', '35zjLJgNRPDgdB9i7DMq40', '3h4fDEtFWgLNFDLBzYq0IO', '65IGYjWJG1Esvl5vA8UTqA', '5YSRhFQfeRb29DexuscBCI', '52TV6XQPs8wijQZLJTdwVl', '6NZ8AYWUgbK48HRcE5yu2z', '1i8S8b09hPcQEpi3U5cuwy', '6EZWwoSA0gaOM2Y9SVm6Gu', '3m881l3GY5UkCQ67Il7W5L', '2o1Xih72xVx6UMr3Vlh10A', '3xy8karhdpkltgdwj9FGbQ', '5kuabPx6vnc2VrHBOL2wk3', '2pEIHNpqlkkB5fX3lRAObT', '2NDZ6i6UfOUSKgFiTQKbnv', '2fIVAH4DJ3E7tg1RsdQGr1', '6jKDgvE2pnYWRnj7xZV8zc', '50z0HWJg4sqh7H8JHol9jC', '7CNRVEMSXo0fRJwZyM0L2n', '4jCvQTZ0z7RazhHCNxCOue', '5AN9utKqlXPSv4TXHSLpC3', '565auBTJWLaGXIdLwpWoXH', '4lm3ufQKbvgYpOwG09lwK8', '0XuWLpllnwmIBxdHLoRKm1', '0z1xjSn9YhKXgu9vscP9sp', '1ImSaJvKCQ0Gewcdx1KzF8', '5Z40sV6CsSW4bL3Uos4fv8', '5S5c6JusOeeZyzRoIo1fYj', '3jN1pQCc1s8PvfaraEdA6t', '6cv4CM4nkrosrBrUOHEZv6', '6TUd1PURo0RZ6cdI5DlOuB', '6mJlIFJrFD3rXyyrIcWbmB', '7KZGfZQbCRrVpPrvUX1Hha', '1mNNuEw8HB8AO69hbC36ow', '5HY8psAHUXZoszXICfZleJ', '0zEXVRr8vzHABhyyQXYOyx', '5LZQ5s0kRZS9nBSd1xLK7U', '28mtZBZc8obDBrqGsQMYxv', '46TGHA7nwKrUB6tCrHgoYt', '7tR2T9fl1R643pSZM94g3T', '1Q2879aFcVxex8dz3vzFZF', '0G5Yp0QjhvItbFLnWj77PM', '3uXSyOemAgWhBt7eoKR5ma', '7B2hAJjWgRnYImdsxx3AJg', '6SEolIp22t0DzeBfCBo3hr', '17CULb9h3QZa1IxJSVT31m', '4oolI1EV0KOP7q5zUm62da', '3kgVXecJVZ996aOHpp3Rox', '3BTrjx5KBfyhd3y9gbIOyE', '4iIpUaZ9Q1nui6aLPcPsWl', '2s6iwCTPcDKcavegZwMZwH', '6TTCFdICEfaqXVGQr1sIaR', '24F8URbAZtuRTWajgQ2kqj', '6ncNLU982iaD9WFb2gTwKd', '2qXdL7etT4K2lo0OJQIfI0', '5HEvP1bJI1fDmUhLehtQkI', '4SkTfsjWUy2rp40d2Ayfmv', '6iiHfPJeO14Z9jRh2wisAG', '70AvqwCfLnKMj3HvJDCXyW', '5j0FoZi8Z7vCrO1JTn3Th2', '3msnevxJ0hSqYTxT0KG8m4', '14pUJuQtrCgR3x5i8P7XvU', '4hokeG0HFC4tuatP7SVaJI', '2xCiGZZOLGodAsNJi3lHBc', '62lCofspSBRnA0TSX2o3VR', '7GNsSH9DplEYuzAPn29ThZ', '4vYcORoPBqumJgue4Zlivj', '0J1vHScmNyuns9tMlcYvRy', '13RsBWKDLWSbJ8l90mRILw', '0b6BaWCmfuyqQAcr1rIqsT', '6yflXzAPml7kzdFHDxjjx5', '1Xl4sMAPM0V5OPn5s484na', '5zBFKRdP4VJ35jKRLYSoME', '3C1VYCfX8gxmZJQfKO06SF', '52MxjAdrzp4PZ8X0U1hLbL', '18Qp2oQlUvoG09Xh5vlp4Z', '59a4wf2b5HVN93MOq6PGJ1', '77Kx0fmuBeeXBPiJQFxt7t', '389Aybn0pTxQ1Mf2TX9E5F', '0tqfL9BbY7TTI68kmJrOBb', '6eAvbCJnRKJmGZOFUqawke', '5K4ExI2qvE1Ule3u7LxUDT', '7088F7oeLUPFVQ9LUBpo6F', '2IaZfG95V0X6nFrLwhvg2q', '3wNirWKxLcvT9Rw3wP37fu', '4lcqlISerO7kR2FopXruUI'], 'pop': ['0x5T26KrZJt8IqhKFMVhr7', '4wH29TM74O3788Kn1KzWuY', '4qjfQnccStTR8zNsb6Mizo', '6oeldD7IpuK9rYOmd1v6Cp', '0rnCDKGkJXucIDrOz4qw3a', '6FdRATpbYps2EDp1cVKvjl', '7n0olNX5AomcHrE0BTouGz', '6zRKBElrcQdcrjwdkndkq6', '2jnvdMCTvtdVCci3YLqxGY', '6jrMVRReY24qzCfe1BRrww', '2Z3cBIZVUjwqDRelSUU2JO', '57sP29jVtaNyP9v2f66ya3', '36BcdMieDTNxYz67HC6a5z', '3CyskcMJyuAwvC7UCyta2R', '2zWlCAYvAQU88mcZ9PPs79', '0L0VMu7ovN7rmTtC8QQrqj', '4dQOR8mMWcrbF0xRRnW5Y6', '6MG2wRqClZh0JZ6i8hNMIV', '1BltsyC5W3SAABdxyrDXwi', '1snNAXmmPXCn0dkF9DaPWw', '5Su8uGrktYXM9inlzmL99W', '1TuopWDIuDi1553081zvuU', '0xxCmuHDaJFESXeB9LUP6k', '4LpDSiGLvVw3Ci0UXLNkb0', '3FcSfxP1kSBldsp1RtGFK1', '42hB2Gy09JBb6G2O4u7IsH', '5VcOZYRlC02MDPD95bi0rs', '6h4yONyGIFXYhrvEX6jVeb', '281bL95h7gyDmHsgjxX4cn', '2wRHG595Z97RGqZs3BX8LQ', '7tW2TN5ZDVxh1gGDcYOdix', '05nwhxWGDWVfclyszFQjAK', '6K01vp2R6Xx9Bgmu5Vc08N', '0yD7jLvzEsDqOWUJjjBSFw', '3ZNqG41EtV1CL8NoNqDIOT', '2Ym6348Zrya2KDGIILwfeX', '5Tou8lYopj9qCIFBFBomZ5', '2GoLbyGzBYqDBq65hWs5ml', '0eUvbwj3QrT0wek6184rS3', '7kGFG0st4JTEalNBcp0dGK', '6v6T1d3FNkYUxUUg1ih4kg', '0iJADInidhOCGDNE2fxt6A', '2wfsmajxsVU6J7Bnj0zMdk', '1TEAtq5PZkp579sOYuNxgZ', '0DPXH5sPDVwjsqfgvmi1yt', '1hi9HshSU5SfMMVoNfe3n4', '7hxANv6CwUizEJH3yquRxo', '1p37ZGmSYAy4Sbk6AJ3Fs3', '3oFKGG9qY5POn6jfSe9esi', '3zUhzxygBLNN1HZQhkDqRT', '5JwLhFNrXw49pn3HQqu02G', '6WKFO9WM8WatQexlcUgRRE', '25FTMokYEbEWHEdss5JLZS', '2PlrYKsGndAMJ0qqVVPCoV', '0S0vWvyZ6Rc79TXkWxT9QA', '6b1rs1silNDIUJQIGAGSRK', '3h1t0qCNmhzdlgXoEzPbCT', '52aLcfyEf3NvnxwlrluEB0', '5oWpJlipVsMJhPp4bzuJ7g', '5apowOptx76SdCQY82etoA', '1sx4GRirvsRPocH3W04e5a', '1CQuoIixW5omjovWwZJtvH', '7G0AyhugxY5DuzZdnoTpQV', '6ixKGrFMIsF93AfjDyC0cE', '34I0nBvoE0ZXmqbKiJ5BWS', '297rZsBEjFw9d0Gl3iBLnd', '4KDVWd4zUHrfJHyuOuvLJP', '0LRDr7rhv07TA2rz7c3sEP', '25Mf35cnnFalpVNFp0g3hW', '2C4uoP3ProgWtxrpTZGx1A', '1OxL1FWSEd7QmJoWLRP2NO', '1xklYIvSXEgs7OLubIv8A9', '6QLxTnjgszTtUtyqRhOO4A', '25XTNHqQQzVpu68AjjVmG5', '7HdZY9UJTylIiNcSDFyUDc', '0TwDJmF16CFXAtJMaJvpwW', '38fGbfDwMH85yhxw8TPUqw', '7vT6AGMPcbybK7AO6Xldkv', '28PFHzteM4RMqb2iwwSyHZ', '2eTLxOZY8owibk7b2iETad', '1xAj0iDV5y4cqwU0grR6iG', '6goNTQZNr60fflEB1OO2ML', '5vPNXc2vMhiDFyYoL9yoWc', '6R1hD9xyWfJcxVLsUnZYXg', '6KSo1lI5GUtlvksaDWM7ZO', '40hAtSMcXfPezZ8kXRrwy1', '4hycQUf62qEZPdSJma3Z7I', '589Y5FWfDwe7kknPZkZCbb', '3PZgOnAOatS2DhgBvSmvTd', '6W6GpWzBiu58bRg1TMTqBT', '6kgc2yup9oyZJg7CzEw4ao', '0slYIsldSfSqkO4d3NYhaR', '5wGvJfMSrseDdSODu2q5qu', '3jdYXYKW66bawC9V7mj5Wy', '1rGQjCIk9cpzLsrtjZO3OG', '4mgcBFJ3zNH1QBTSvD5AXO', '3Qn3LhREMyvnvj9ujRugd3', '64PaL2zhiNF1gx8xNmeyP2', '1dNMj9xopqmF7tcYvdlpZj', '0IOUTQRC7GGvLHs3nZ8pIk', '3YBld9PpvUxYzruAmAj1QF', '6VDfg9kdGhEb4McPwJpp5t', '6TSf6gcUmjDeuxzpXEoOlo', '3waPeaG7cBwGYsXC4EEsQa', '392RrzHOCBYJ7UcfDblnpu', '1r4jh97RMMdR38VSM1VzJA', '4lxy9f7o28AEttUFHXwe9P', '4eTVpfb9fISH1FV4APpX2T', '5JpvSu9jWCsHiOFGSJJH2u', '4sQMalN597HdggTu196aL0', '47zREtxQZ3cHHIZwUQnuuN', '3YKb4RfxFidWLwfbM9kief', '3AA8xNhDC0MpqwkGX3EP5V', '1lTGGoK1ACw9OQ6VxqrEFg', '5yaEx1flpZmNBiPyAT8iUx', '72hSmnleYTiiOo23q8ZJIS', '3Fx9Xi571ygW3NgX7JbT82', '6D43oUO6nImERk2psfXdNY', '4nwXZCbG0ZcWotXokoh7Yc', '2TbQOKDTGrg3ppGkO3gltX', '4ztPah3U03EQ6SZUrSV27g', '2LmL53XRRZqvnXRb24UCRp', '3esjTrpXxTrJkCVjrQpcDB', '5wN0Qf0iHLcWbCugUtQLNp', '5F9Td50J660cg3XgoNFzLN', '5CPqOpKSk0QcJ3dGdaWcRB', '0iALOYqXaVoluUIsSyDAny', '5Bhlgul8adzYbmy4aLRy6y', '5NjNYbL0eI1khtqmRRMd5W', '4prEPl61C8qZpeo3IkYSMl', '2m6knc5tEfzVYwGY6GlCPm', '6A82TuoFhpEU8wLkzFoiRX', '0DSIv9DJruGLaRRLKKgit3', '4xl7p1wHcDAihFHudcfn25', '6GZztnaEIbtDSlR6HahENG', '2aD5pS1jcwTnnzSQ8Kmicr', '7m9WdhsSeM7yMz2JchbMe2', '5pAGl4nTCwcXdce769jJuI', '0xfpx7AiwgSKEtjotea2L6', '3LH6EfPCeySeuymuK2gWAO', '6EThJr4Dq1Y93JspecGU2F', '2fyS7TaRoUG9loKPhJ7fdQ', '4vcoNCrTtunmJ9q8srpVly', '6WDAtzaXY7d31CkuoxYFcb', '5uTjNzGKCQ50synrf9dWmT', '7EVk9tRb6beJLTHrg6AkY9', '7cHRys0Lhk9642dLaPUMkm', '5RzkcrJ2Q45NriQYE04vU1', '3xEq9VX1OAxeiaryBwZAX5', '3aU0Oqme6sPsew3U3LP9rD', '1tMXGRKHmLUhNcmnCdR1P7', '2eZMdfWiIMcb12Sgs9v9p5', '5iKoarDSV0EA1JN10Bljr5', '5SWfqINCAFg3N4x9bcegYf', '2ztzeB2k8jrwA6y8wCw7kk', '6oGTmUCzggmGfsYrSi7qhI', '59tpgfXjTc3QR7mWJj8Wln', '0RwSkUIgsowQ6MU1NNVSA7', '4MzPsIGN6hukQwXgJG12ZE', '78hGjJf8KGJCnJTVbrwwCm', '1yzbqrSF0vuaO7nuKYSd6f', '7w87IxuO7BDcJ3YUqCyMTT', '04tphyAEH1SJFp6beHQdaz', '5zN3VFmNhdOKxRElarvVq5', '7v9Q0dAb9t7h8gJOkcJHay', '2LD2gT7gwAurzdQDQtILds', '3H3cOQ6LBLSvmcaV7QkZEu', '2VEZx7NWsZ1D0eJ4uv5Fym', '73mTIDCNKGfUF4MiFfR3b5', '0LSLM0zuWRkEYemF7JcfEE', '4zu9wo2FXoBSsKjO6tRB3R', '7D4FK4maB3qK0YJexCUJ7Q', '5q2KGgJV5l4MAnnGIrvKSK', '029O4HWI1pVXLfFdfQd1Jb', '5OWhFeNXZ2RGbsGpl3rIc3', '5XzGyYZemDuCG3OdbhVFvh', '3Ons6C3wXBMi8nYpLBMlVe', '5RByQFt9Mlo8hDYJ921tCv', '4IdiGMOzEYXOh2897XOV8i', '5eS6pTvDNOvh2kyxeZtK3r', '0oks4FnzhNp5QPTZtoet7c', '1NeLwFETswx8Fzxl2AFl91', '5W3cjX2J3tjhG8zb6u0qHn', '36c4JohayB9qd64eidQMBi', '1pKYYY0dkg23sQQXi0Q5zN', '2cGxRwrMyEAp8dEbuZaVv6', '5CMjjywI0eZMixPeqNd75R', '69kOkLUCkxIZYexIgSG8rq', '0DiWol3AO6WpXZgp0goxAV', '1yJ7WECFcGSrhOAL3N66e8', '5Mv6kJsWF4vMpn281fAKCO', '32XguVXAL8XdpVuEygw0nM', '1depKpsqGCvr8wtjFFaFoO', '28N6GiBhcHi8kNdLgynOUE', '6kwAbEjseqBob48jCus7Sz', '3vlVbJmvSm3x5Hqmnzh8HI', '2WMRd3xAb9FwXopCRNWDq1', '0SGccA9exVTuzQY7jwbASF', '7eXESEtK5e9gDz7jLyOVDb', '2CeFP3pggzhuzZB9rLMHYW', '3Ve96alMjeaChfLbszJoKZ']}\n"
     ]
    }
   ],
   "source": [
    "print(playlist_tracks)"
   ]
  },
  {
   "cell_type": "code",
   "execution_count": 11,
   "metadata": {},
   "outputs": [],
   "source": [
    "token = util.prompt_for_user_token(username, 'playlist-modify-private', client_id=client_id, client_secret=client_secret, redirect_uri=redirect_uri)\n",
    "sp = spotipy.Spotify(auth=token)\n",
    "\n",
    "for name in playlist_tracks:\n",
    "    id = sp.user_playlist_create(username, 'sortify '+name, public=False)['id']\n",
    "    for chunk in chunks(100, playlist_tracks[name]):\n",
    "        sp.user_playlist_add_tracks(username, id, chunk)"
   ]
  },
  {
   "cell_type": "code",
   "execution_count": null,
   "metadata": {},
   "outputs": [],
   "source": [
    "import pprint\n",
    "pp = pprint.PrettyPrinter(indent=4)\n",
    "pp.pprint(playlists)"
   ]
  }
 ],
 "metadata": {
  "kernelspec": {
   "display_name": "Python 3",
   "language": "python",
   "name": "python3"
  },
  "language_info": {
   "codemirror_mode": {
    "name": "ipython",
    "version": 3
   },
   "file_extension": ".py",
   "mimetype": "text/x-python",
   "name": "python",
   "nbconvert_exporter": "python",
   "pygments_lexer": "ipython3",
   "version": "3.6.6"
  }
 },
 "nbformat": 4,
 "nbformat_minor": 2
}
